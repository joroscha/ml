{
 "cells": [
  {
   "cell_type": "code",
   "execution_count": 20,
   "metadata": {
    "collapsed": true
   },
   "outputs": [],
   "source": [
    "import pandas as pd\n",
    "import numpy as np\n",
    "import seaborn as sns\n",
    "import matplotlib.pyplot as plt\n",
    "from sklearn.metrics import confusion_matrix, f1_score, classification_report\n",
    "from sklearn.tree import DecisionTreeClassifier\n",
    "from sklearn.ensemble import RandomForestClassifier\n",
    "from imblearn.over_sampling import RandomOverSampler\n"
   ]
  },
  {
   "cell_type": "code",
   "execution_count": 47,
   "metadata": {
    "collapsed": true
   },
   "outputs": [],
   "source": [
    "data = pd.read_csv('Feature_Matrix_Yelp_Complete_percentages.csv')"
   ]
  },
  {
   "cell_type": "code",
   "execution_count": 48,
   "metadata": {
    "collapsed": false
   },
   "outputs": [],
   "source": [
    "data = data[data['Years']!=2017]"
   ]
  },
  {
   "cell_type": "code",
   "execution_count": 49,
   "metadata": {
    "collapsed": false
   },
   "outputs": [],
   "source": [
    "data_threshold = np.mean(data.Perc_Change_tplus1) - np.std(data.Perc_Change_tplus1)"
   ]
  },
  {
   "cell_type": "code",
   "execution_count": 56,
   "metadata": {
    "collapsed": false
   },
   "outputs": [
    {
     "data": {
      "image/png": "[encoded data removed]",
      "text/plain": [
       "<matplotlib.figure.Figure at 0x10fa73d90>"
      ]
     },
     "metadata": {},
     "output_type": "display_data"
    }
   ],
   "source": [
    "sns.distplot(data['Perc_Change_tplus1'].dropna())\n",
    "plt.show()\n",
    "\n",
    "data['grow'] = np.where(data['Perc_Change_tplus1'] <= np.mean(data.Perc_Change_tplus1) - np.std(data.Perc_Change_tplus1), \"NEGATIVE\", np.where(data['Perc_Change_tplus1'] >= np.mean(data.Perc_Change_tplus1) + np.std(data.Perc_Change_tplus1), \"HIGH_GROWTH\", \"NORMAL_GROWTH\"))"
   ]
  },
  {
   "cell_type": "code",
   "execution_count": 51,
   "metadata": {
    "collapsed": false
   },
   "outputs": [
    {
     "data": {
      "text/plain": [
       "0.10842105263157895"
      ]
     },
     "execution_count": 51,
     "metadata": {},
     "output_type": "execute_result"
    }
   ],
   "source": [
    "float(data.grow.sum())/len(data)"
   ]
  },
  {
   "cell_type": "code",
   "execution_count": 52,
   "metadata": {
    "collapsed": false
   },
   "outputs": [
    {
     "data": {
      "text/plain": [
       "-0.009354899449043302"
      ]
     },
     "execution_count": 52,
     "metadata": {},
     "output_type": "execute_result"
    }
   ],
   "source": [
    "data_threshold"
   ]
  },
  {
   "cell_type": "code",
   "execution_count": 57,
   "metadata": {
    "collapsed": false
   },
   "outputs": [
    {
     "data": {
      "text/html": [
       "<div>\n",
       "<table border=\"1\" class=\"dataframe\">\n",
       "  <thead>\n",
       "    <tr style=\"text-align: right;\">\n",
       "      <th></th>\n",
       "      <th>postal_code</th>\n",
       "      <th>Years</th>\n",
       "      <th>useful</th>\n",
       "      <th>funny</th>\n",
       "      <th>cool</th>\n",
       "      <th>Price</th>\n",
       "      <th>stars_1</th>\n",
       "      <th>stars_2</th>\n",
       "      <th>stars_3</th>\n",
       "      <th>stars_4</th>\n",
       "      <th>stars_5</th>\n",
       "      <th>stars</th>\n",
       "      <th>reviews_perc</th>\n",
       "      <th>prev_stars</th>\n",
       "      <th>stars_perc</th>\n",
       "      <th>Perc_Change_tminus1</th>\n",
       "      <th>Per_Change_t</th>\n",
       "      <th>Perc_Change_tplus1</th>\n",
       "      <th>grow</th>\n",
       "    </tr>\n",
       "  </thead>\n",
       "  <tbody>\n",
       "    <tr>\n",
       "      <th>0</th>\n",
       "      <td>15003</td>\n",
       "      <td>2008</td>\n",
       "      <td>2.000</td>\n",
       "      <td>0.500</td>\n",
       "      <td>2.000000</td>\n",
       "      <td>3.000000</td>\n",
       "      <td>0.000000</td>\n",
       "      <td>0.0</td>\n",
       "      <td>0.000000</td>\n",
       "      <td>0.500000</td>\n",
       "      <td>0.500000</td>\n",
       "      <td>4.500000</td>\n",
       "      <td>0.001061</td>\n",
       "      <td>NaN</td>\n",
       "      <td>NaN</td>\n",
       "      <td>0.000000</td>\n",
       "      <td>0.000000</td>\n",
       "      <td>-0.026316</td>\n",
       "      <td>NEGATIVE</td>\n",
       "    </tr>\n",
       "    <tr>\n",
       "      <th>1</th>\n",
       "      <td>15003</td>\n",
       "      <td>2009</td>\n",
       "      <td>0.500</td>\n",
       "      <td>0.000</td>\n",
       "      <td>0.500000</td>\n",
       "      <td>2.000000</td>\n",
       "      <td>0.000000</td>\n",
       "      <td>0.0</td>\n",
       "      <td>0.000000</td>\n",
       "      <td>0.500000</td>\n",
       "      <td>0.500000</td>\n",
       "      <td>4.500000</td>\n",
       "      <td>0.000553</td>\n",
       "      <td>4.500000</td>\n",
       "      <td>0.000000</td>\n",
       "      <td>0.000000</td>\n",
       "      <td>-0.026316</td>\n",
       "      <td>0.036036</td>\n",
       "      <td>NORMAL_GROWTH</td>\n",
       "    </tr>\n",
       "    <tr>\n",
       "      <th>2</th>\n",
       "      <td>15003</td>\n",
       "      <td>2010</td>\n",
       "      <td>1.625</td>\n",
       "      <td>0.375</td>\n",
       "      <td>0.375000</td>\n",
       "      <td>2.400000</td>\n",
       "      <td>0.000000</td>\n",
       "      <td>0.0</td>\n",
       "      <td>0.125000</td>\n",
       "      <td>0.500000</td>\n",
       "      <td>0.375000</td>\n",
       "      <td>4.250000</td>\n",
       "      <td>0.001275</td>\n",
       "      <td>4.500000</td>\n",
       "      <td>-0.055556</td>\n",
       "      <td>-0.026316</td>\n",
       "      <td>0.036036</td>\n",
       "      <td>-0.060870</td>\n",
       "      <td>NEGATIVE</td>\n",
       "    </tr>\n",
       "    <tr>\n",
       "      <th>3</th>\n",
       "      <td>15003</td>\n",
       "      <td>2011</td>\n",
       "      <td>1.200</td>\n",
       "      <td>0.200</td>\n",
       "      <td>0.466667</td>\n",
       "      <td>2.400000</td>\n",
       "      <td>0.066667</td>\n",
       "      <td>0.0</td>\n",
       "      <td>0.066667</td>\n",
       "      <td>0.133333</td>\n",
       "      <td>0.733333</td>\n",
       "      <td>4.466667</td>\n",
       "      <td>0.001285</td>\n",
       "      <td>4.250000</td>\n",
       "      <td>0.050980</td>\n",
       "      <td>0.036036</td>\n",
       "      <td>-0.060870</td>\n",
       "      <td>0.027778</td>\n",
       "      <td>NORMAL_GROWTH</td>\n",
       "    </tr>\n",
       "    <tr>\n",
       "      <th>4</th>\n",
       "      <td>15003</td>\n",
       "      <td>2012</td>\n",
       "      <td>1.800</td>\n",
       "      <td>0.450</td>\n",
       "      <td>0.800000</td>\n",
       "      <td>2.111111</td>\n",
       "      <td>0.150000</td>\n",
       "      <td>0.1</td>\n",
       "      <td>0.050000</td>\n",
       "      <td>0.300000</td>\n",
       "      <td>0.400000</td>\n",
       "      <td>3.700000</td>\n",
       "      <td>0.001196</td>\n",
       "      <td>4.466667</td>\n",
       "      <td>-0.171642</td>\n",
       "      <td>-0.060870</td>\n",
       "      <td>0.027778</td>\n",
       "      <td>0.027027</td>\n",
       "      <td>NORMAL_GROWTH</td>\n",
       "    </tr>\n",
       "  </tbody>\n",
       "</table>\n",
       "</div>"
      ],
      "text/plain": [
       "   postal_code  Years  useful  funny      cool     Price   stars_1  stars_2  \\\n",
       "0        15003   2008   2.000  0.500  2.000000  3.000000  0.000000      0.0   \n",
       "1        15003   2009   0.500  0.000  0.500000  2.000000  0.000000      0.0   \n",
       "2        15003   2010   1.625  0.375  0.375000  2.400000  0.000000      0.0   \n",
       "3        15003   2011   1.200  0.200  0.466667  2.400000  0.066667      0.0   \n",
       "4        15003   2012   1.800  0.450  0.800000  2.111111  0.150000      0.1   \n",
       "\n",
       "    stars_3   stars_4   stars_5     stars  reviews_perc  prev_stars  \\\n",
       "0  0.000000  0.500000  0.500000  4.500000      0.001061         NaN   \n",
       "1  0.000000  0.500000  0.500000  4.500000      0.000553    4.500000   \n",
       "2  0.125000  0.500000  0.375000  4.250000      0.001275    4.500000   \n",
       "3  0.066667  0.133333  0.733333  4.466667      0.001285    4.250000   \n",
       "4  0.050000  0.300000  0.400000  3.700000      0.001196    4.466667   \n",
       "\n",
       "   stars_perc  Perc_Change_tminus1  Per_Change_t  Perc_Change_tplus1  \\\n",
       "0         NaN             0.000000      0.000000           -0.026316   \n",
       "1    0.000000             0.000000     -0.026316            0.036036   \n",
       "2   -0.055556            -0.026316      0.036036           -0.060870   \n",
       "3    0.050980             0.036036     -0.060870            0.027778   \n",
       "4   -0.171642            -0.060870      0.027778            0.027027   \n",
       "\n",
       "            grow  \n",
       "0       NEGATIVE  \n",
       "1  NORMAL_GROWTH  \n",
       "2       NEGATIVE  \n",
       "3  NORMAL_GROWTH  \n",
       "4  NORMAL_GROWTH  "
      ]
     },
     "execution_count": 57,
     "metadata": {},
     "output_type": "execute_result"
    }
   ],
   "source": [
    "data.head()"
   ]
  },
  {
   "cell_type": "code",
   "execution_count": 65,
   "metadata": {
    "collapsed": false
   },
   "outputs": [
    {
     "data": {
      "text/plain": [
       "'Perc_Change_tplus1'"
      ]
     },
     "execution_count": 65,
     "metadata": {},
     "output_type": "execute_result"
    }
   ],
   "source": [
    "data.columns[17]"
   ]
  },
  {
   "cell_type": "code",
   "execution_count": 60,
   "metadata": {
    "collapsed": false
   },
   "outputs": [
    {
     "data": {
      "image/png": "[encoded data removed]",
      "text/plain": [
       "<matplotlib.figure.Figure at 0x112f7ef10>"
      ]
     },
     "metadata": {},
     "output_type": "display_data"
    }
   ],
   "source": [
    "sns.factorplot(x=\"grow\", data=data, kind=\"count\",palette=\"BuPu\", size=6, aspect=1.5)\n",
    "plt.show()"
   ]
  },
  {
   "cell_type": "code",
   "execution_count": 61,
   "metadata": {
    "collapsed": true
   },
   "outputs": [],
   "source": [
    "data.to_csv(\"yelp_data_withLabels.csv\")"
   ]
  },
  {
   "cell_type": "code",
   "execution_count": 151,
   "metadata": {
    "collapsed": true
   },
   "outputs": [],
   "source": [
    "from sklearn import linear_model\n",
    "from sklearn.model_selection import train_test_split\n",
    "logreg = linear_model.LogisticRegression(C=1e5)"
   ]
  },
  {
   "cell_type": "code",
   "execution_count": 528,
   "metadata": {
    "collapsed": true
   },
   "outputs": [],
   "source": [
    "data2 = data.dropna()\n",
    "X = data2[data2.columns[2:17]]\n",
    "Y = data2['grow']\n",
    "\n",
    "test_index = data2['Years']>=2014\n",
    "train_index = data2['Years']<2014"
   ]
  },
  {
   "cell_type": "code",
   "execution_count": 529,
   "metadata": {
    "collapsed": true
   },
   "outputs": [],
   "source": [
    "x_train = X[train_index]\n",
    "y_train = Y[train_index]\n",
    "\n",
    "x_test = X[test_index]\n",
    "y_test = Y[test_index]\n",
    "\n",
    "x_train, x_test, y_train, y_test = train_test_split(X,Y, test_size = 0.5)\n",
    "\n",
    "#Oversampling\n",
    "ros = RandomOverSampler()\n",
    "x_train, y_train = ros.fit_sample(x_train, y_train)"
   ]
  },
  {
   "cell_type": "code",
   "execution_count": 530,
   "metadata": {
    "collapsed": false
   },
   "outputs": [
    {
     "data": {
      "text/plain": [
       "LogisticRegression(C=100000.0, class_weight=None, dual=False,\n",
       "          fit_intercept=True, intercept_scaling=1, max_iter=100,\n",
       "          multi_class='ovr', n_jobs=1, penalty='l2', random_state=None,\n",
       "          solver='liblinear', tol=0.0001, verbose=0, warm_start=False)"
      ]
     },
     "execution_count": 530,
     "metadata": {},
     "output_type": "execute_result"
    }
   ],
   "source": [
    "# we create an instance of Neighbours Classifier and fit the data.\n",
    "logreg.fit(x_train, y_train)"
   ]
  },
  {
   "cell_type": "code",
   "execution_count": 537,
   "metadata": {
    "collapsed": false
   },
   "outputs": [
    {
     "name": "stdout",
     "output_type": "stream",
     "text": [
      "[[24  5  9]\n",
      " [ 3 18 10]\n",
      " [90 84 74]]\n",
      "               precision    recall  f1-score   support\n",
      "\n",
      "  HIGH_GROWTH       0.21      0.63      0.31        38\n",
      "     NEGATIVE       0.17      0.58      0.26        31\n",
      "NORMAL_GROWTH       0.80      0.30      0.43       248\n",
      "\n",
      "  avg / total       0.66      0.37      0.40       317\n",
      "\n"
     ]
    }
   ],
   "source": [
    "y_pred_lr = logreg.predict(x_test)\n",
    "print(confusion_matrix(y_test, y_pred))\n",
    "print(classification_report(y_test, y_pred_lr))"
   ]
  },
  {
   "cell_type": "code",
   "execution_count": 533,
   "metadata": {
    "collapsed": false
   },
   "outputs": [
    {
     "name": "stdout",
     "output_type": "stream",
     "text": [
      "[[ 14   2  22]\n",
      " [  2   8  21]\n",
      " [ 49  44 155]]\n",
      "               precision    recall  f1-score   support\n",
      "\n",
      "  HIGH_GROWTH       0.22      0.37      0.27        38\n",
      "     NEGATIVE       0.15      0.26      0.19        31\n",
      "NORMAL_GROWTH       0.78      0.62      0.70       248\n",
      "\n",
      "  avg / total       0.65      0.56      0.59       317\n",
      "\n"
     ]
    }
   ],
   "source": [
    "#Decision Trees\n",
    "decision_tree = DecisionTreeClassifier(class_weight=\"balanced\", max_depth=7)\n",
    "decision_tree.fit(x_train, y_train)\n",
    "y_pred_dt = decision_tree.predict(x_test)\n",
    "print(confusion_matrix(y_test, y_pred_dt))\n",
    "print(classification_report(y_test, y_pred_dt))"
   ]
  },
  {
   "cell_type": "code",
   "execution_count": 534,
   "metadata": {
    "collapsed": false
   },
   "outputs": [
    {
     "name": "stdout",
     "output_type": "stream",
     "text": [
      "               precision    recall  f1-score   support\n",
      "\n",
      "  HIGH_GROWTH       0.34      0.34      0.34        38\n",
      "     NEGATIVE       0.25      0.19      0.22        31\n",
      "NORMAL_GROWTH       0.81      0.83      0.82       248\n",
      "\n",
      "  avg / total       0.70      0.71      0.70       317\n",
      "\n"
     ]
    },
    {
     "data": {
      "text/plain": [
       "array([[ 13,   1,  24],\n",
       "       [  0,   6,  25],\n",
       "       [ 25,  17, 206]])"
      ]
     },
     "execution_count": 534,
     "metadata": {},
     "output_type": "execute_result"
    }
   ],
   "source": [
    "#Random Forests\n",
    "rf = RandomForestClassifier(class_weight=\"balanced\")\n",
    "rf.fit(x_train, y_train)\n",
    "y_pred_rf = rf.predict(x_test)\n",
    "print(classification_report(y_test, y_pred_rf))\n",
    "confusion_matrix(y_test, y_pred_rf)"
   ]
  },
  {
   "cell_type": "code",
   "execution_count": 535,
   "metadata": {
    "collapsed": false
   },
   "outputs": [
    {
     "data": {
      "text/html": [
       "<div>\n",
       "<table border=\"1\" class=\"dataframe\">\n",
       "  <thead>\n",
       "    <tr style=\"text-align: right;\">\n",
       "      <th></th>\n",
       "      <th>Feature</th>\n",
       "      <th>Importance</th>\n",
       "    </tr>\n",
       "  </thead>\n",
       "  <tbody>\n",
       "    <tr>\n",
       "      <th>0</th>\n",
       "      <td>Per_Change_t</td>\n",
       "      <td>0.106155</td>\n",
       "    </tr>\n",
       "    <tr>\n",
       "      <th>1</th>\n",
       "      <td>stars_3</td>\n",
       "      <td>0.090937</td>\n",
       "    </tr>\n",
       "    <tr>\n",
       "      <th>2</th>\n",
       "      <td>stars_1</td>\n",
       "      <td>0.089354</td>\n",
       "    </tr>\n",
       "    <tr>\n",
       "      <th>3</th>\n",
       "      <td>stars_5</td>\n",
       "      <td>0.081119</td>\n",
       "    </tr>\n",
       "    <tr>\n",
       "      <th>4</th>\n",
       "      <td>Perc_Change_tminus1</td>\n",
       "      <td>0.074637</td>\n",
       "    </tr>\n",
       "    <tr>\n",
       "      <th>5</th>\n",
       "      <td>funny</td>\n",
       "      <td>0.072942</td>\n",
       "    </tr>\n",
       "    <tr>\n",
       "      <th>6</th>\n",
       "      <td>stars_perc</td>\n",
       "      <td>0.072568</td>\n",
       "    </tr>\n",
       "    <tr>\n",
       "      <th>7</th>\n",
       "      <td>cool</td>\n",
       "      <td>0.066442</td>\n",
       "    </tr>\n",
       "    <tr>\n",
       "      <th>8</th>\n",
       "      <td>useful</td>\n",
       "      <td>0.062087</td>\n",
       "    </tr>\n",
       "    <tr>\n",
       "      <th>9</th>\n",
       "      <td>reviews_perc</td>\n",
       "      <td>0.060540</td>\n",
       "    </tr>\n",
       "    <tr>\n",
       "      <th>10</th>\n",
       "      <td>stars_2</td>\n",
       "      <td>0.051148</td>\n",
       "    </tr>\n",
       "    <tr>\n",
       "      <th>11</th>\n",
       "      <td>Price</td>\n",
       "      <td>0.046854</td>\n",
       "    </tr>\n",
       "    <tr>\n",
       "      <th>12</th>\n",
       "      <td>stars_4</td>\n",
       "      <td>0.045158</td>\n",
       "    </tr>\n",
       "    <tr>\n",
       "      <th>13</th>\n",
       "      <td>prev_stars</td>\n",
       "      <td>0.043126</td>\n",
       "    </tr>\n",
       "    <tr>\n",
       "      <th>14</th>\n",
       "      <td>stars</td>\n",
       "      <td>0.036931</td>\n",
       "    </tr>\n",
       "  </tbody>\n",
       "</table>\n",
       "</div>"
      ],
      "text/plain": [
       "                Feature  Importance\n",
       "0          Per_Change_t    0.106155\n",
       "1               stars_3    0.090937\n",
       "2               stars_1    0.089354\n",
       "3               stars_5    0.081119\n",
       "4   Perc_Change_tminus1    0.074637\n",
       "5                 funny    0.072942\n",
       "6            stars_perc    0.072568\n",
       "7                  cool    0.066442\n",
       "8                useful    0.062087\n",
       "9          reviews_perc    0.060540\n",
       "10              stars_2    0.051148\n",
       "11                Price    0.046854\n",
       "12              stars_4    0.045158\n",
       "13           prev_stars    0.043126\n",
       "14                stars    0.036931"
      ]
     },
     "execution_count": 535,
     "metadata": {},
     "output_type": "execute_result"
    }
   ],
   "source": [
    "importances = rf.feature_importances_\n",
    "indices = np.argsort(importances)[::-1]\n",
    "columns = X.columns\n",
    "feature_importance = pd.DataFrame(columns = ['Feature', 'Importance'])\n",
    "feature_importance['Feature'] = columns[indices]\n",
    "feature_importance['Importance'] = importances[indices]\n",
    "feature_importance"
   ]
  },
  {
   "cell_type": "code",
   "execution_count": 567,
   "metadata": {
    "collapsed": false
   },
   "outputs": [
    {
     "data": {
      "image/png": "[encoded data removed]",
      "text/plain": [
       "<matplotlib.figure.Figure at 0x1152a23d0>"
      ]
     },
     "metadata": {},
     "output_type": "display_data"
    }
   ],
   "source": [
    "sns.boxplot(data=data, x='grow', y='stars_3')\n",
    "plt.show()"
   ]
  },
  {
   "cell_type": "code",
   "execution_count": 506,
   "metadata": {
    "collapsed": false
   },
   "outputs": [
    {
     "data": {
      "image/png": "[encoded data removed]",
      "text/plain": [
       "<matplotlib.figure.Figure at 0x1166d8c10>"
      ]
     },
     "metadata": {},
     "output_type": "display_data"
    }
   ],
   "source": [
    "sns.lmplot(x=\"Price\", y=\"Perc_Change_tplus1\", hue=\"grow\", data=data, size=7)\n",
    "plt.show()"
   ]
  },
  {
   "cell_type": "code",
   "execution_count": 510,
   "metadata": {
    "collapsed": false
   },
   "outputs": [
    {
     "data": {
      "text/html": [
       "<div>\n",
       "<table border=\"1\" class=\"dataframe\">\n",
       "  <thead>\n",
       "    <tr style=\"text-align: right;\">\n",
       "      <th></th>\n",
       "      <th>postal_code</th>\n",
       "      <th>Years</th>\n",
       "      <th>useful</th>\n",
       "      <th>funny</th>\n",
       "      <th>cool</th>\n",
       "      <th>Price</th>\n",
       "      <th>stars_1</th>\n",
       "      <th>stars_2</th>\n",
       "      <th>stars_3</th>\n",
       "      <th>stars_4</th>\n",
       "      <th>stars_5</th>\n",
       "      <th>stars</th>\n",
       "      <th>reviews_perc</th>\n",
       "      <th>prev_stars</th>\n",
       "      <th>stars_perc</th>\n",
       "      <th>Perc_Change_tminus1</th>\n",
       "      <th>Per_Change_t</th>\n",
       "      <th>Perc_Change_tplus1</th>\n",
       "    </tr>\n",
       "  </thead>\n",
       "  <tbody>\n",
       "    <tr>\n",
       "      <th>count</th>\n",
       "      <td>634.000000</td>\n",
       "      <td>634.000000</td>\n",
       "      <td>634.000000</td>\n",
       "      <td>634.000000</td>\n",
       "      <td>634.000000</td>\n",
       "      <td>634.000000</td>\n",
       "      <td>634.000000</td>\n",
       "      <td>634.000000</td>\n",
       "      <td>634.000000</td>\n",
       "      <td>634.000000</td>\n",
       "      <td>634.000000</td>\n",
       "      <td>634.000000</td>\n",
       "      <td>634.000000</td>\n",
       "      <td>634.000000</td>\n",
       "      <td>634.000000</td>\n",
       "      <td>634.000000</td>\n",
       "      <td>634.000000</td>\n",
       "      <td>634.000000</td>\n",
       "    </tr>\n",
       "    <tr>\n",
       "      <th>mean</th>\n",
       "      <td>15168.141956</td>\n",
       "      <td>2012.436909</td>\n",
       "      <td>1.068052</td>\n",
       "      <td>0.367989</td>\n",
       "      <td>0.494219</td>\n",
       "      <td>1.809474</td>\n",
       "      <td>0.107808</td>\n",
       "      <td>0.077899</td>\n",
       "      <td>0.126347</td>\n",
       "      <td>0.279289</td>\n",
       "      <td>0.408657</td>\n",
       "      <td>3.803087</td>\n",
       "      <td>0.012904</td>\n",
       "      <td>3.853074</td>\n",
       "      <td>0.011470</td>\n",
       "      <td>0.021715</td>\n",
       "      <td>0.028951</td>\n",
       "      <td>0.033083</td>\n",
       "    </tr>\n",
       "    <tr>\n",
       "      <th>std</th>\n",
       "      <td>78.916710</td>\n",
       "      <td>2.626868</td>\n",
       "      <td>0.644194</td>\n",
       "      <td>0.408243</td>\n",
       "      <td>0.455602</td>\n",
       "      <td>0.245240</td>\n",
       "      <td>0.109397</td>\n",
       "      <td>0.068017</td>\n",
       "      <td>0.101962</td>\n",
       "      <td>0.147775</td>\n",
       "      <td>0.185385</td>\n",
       "      <td>0.480138</td>\n",
       "      <td>0.025321</td>\n",
       "      <td>0.545036</td>\n",
       "      <td>0.272047</td>\n",
       "      <td>0.033733</td>\n",
       "      <td>0.039469</td>\n",
       "      <td>0.037433</td>\n",
       "    </tr>\n",
       "    <tr>\n",
       "      <th>min</th>\n",
       "      <td>15003.000000</td>\n",
       "      <td>2006.000000</td>\n",
       "      <td>0.000000</td>\n",
       "      <td>0.000000</td>\n",
       "      <td>0.000000</td>\n",
       "      <td>1.000000</td>\n",
       "      <td>0.000000</td>\n",
       "      <td>0.000000</td>\n",
       "      <td>0.000000</td>\n",
       "      <td>0.000000</td>\n",
       "      <td>0.000000</td>\n",
       "      <td>1.000000</td>\n",
       "      <td>0.000023</td>\n",
       "      <td>1.000000</td>\n",
       "      <td>-0.800000</td>\n",
       "      <td>-0.070423</td>\n",
       "      <td>-0.070423</td>\n",
       "      <td>-0.070423</td>\n",
       "    </tr>\n",
       "    <tr>\n",
       "      <th>25%</th>\n",
       "      <td>15112.000000</td>\n",
       "      <td>2011.000000</td>\n",
       "      <td>0.659720</td>\n",
       "      <td>0.130109</td>\n",
       "      <td>0.235667</td>\n",
       "      <td>1.730889</td>\n",
       "      <td>0.040000</td>\n",
       "      <td>0.022348</td>\n",
       "      <td>0.072646</td>\n",
       "      <td>0.206649</td>\n",
       "      <td>0.307692</td>\n",
       "      <td>3.576049</td>\n",
       "      <td>0.000979</td>\n",
       "      <td>3.582394</td>\n",
       "      <td>-0.062953</td>\n",
       "      <td>0.000000</td>\n",
       "      <td>0.000000</td>\n",
       "      <td>0.008066</td>\n",
       "    </tr>\n",
       "    <tr>\n",
       "      <th>50%</th>\n",
       "      <td>15203.000000</td>\n",
       "      <td>2013.000000</td>\n",
       "      <td>0.965546</td>\n",
       "      <td>0.268621</td>\n",
       "      <td>0.398269</td>\n",
       "      <td>1.833333</td>\n",
       "      <td>0.097365</td>\n",
       "      <td>0.076923</td>\n",
       "      <td>0.117963</td>\n",
       "      <td>0.269845</td>\n",
       "      <td>0.386917</td>\n",
       "      <td>3.765358</td>\n",
       "      <td>0.004124</td>\n",
       "      <td>3.781929</td>\n",
       "      <td>-0.001392</td>\n",
       "      <td>0.020135</td>\n",
       "      <td>0.027180</td>\n",
       "      <td>0.031458</td>\n",
       "    </tr>\n",
       "    <tr>\n",
       "      <th>75%</th>\n",
       "      <td>15224.000000</td>\n",
       "      <td>2015.000000</td>\n",
       "      <td>1.357578</td>\n",
       "      <td>0.461003</td>\n",
       "      <td>0.636162</td>\n",
       "      <td>1.918697</td>\n",
       "      <td>0.152098</td>\n",
       "      <td>0.107421</td>\n",
       "      <td>0.164725</td>\n",
       "      <td>0.334572</td>\n",
       "      <td>0.488815</td>\n",
       "      <td>4.000000</td>\n",
       "      <td>0.011989</td>\n",
       "      <td>4.063497</td>\n",
       "      <td>0.036462</td>\n",
       "      <td>0.044826</td>\n",
       "      <td>0.053044</td>\n",
       "      <td>0.053637</td>\n",
       "    </tr>\n",
       "    <tr>\n",
       "      <th>max</th>\n",
       "      <td>15367.000000</td>\n",
       "      <td>2016.000000</td>\n",
       "      <td>4.500000</td>\n",
       "      <td>3.000000</td>\n",
       "      <td>4.000000</td>\n",
       "      <td>3.000000</td>\n",
       "      <td>1.000000</td>\n",
       "      <td>0.555556</td>\n",
       "      <td>1.000000</td>\n",
       "      <td>1.000000</td>\n",
       "      <td>1.000000</td>\n",
       "      <td>5.000000</td>\n",
       "      <td>0.170306</td>\n",
       "      <td>5.000000</td>\n",
       "      <td>3.500000</td>\n",
       "      <td>0.201389</td>\n",
       "      <td>0.219858</td>\n",
       "      <td>0.219858</td>\n",
       "    </tr>\n",
       "  </tbody>\n",
       "</table>\n",
       "</div>"
      ],
      "text/plain": [
       "        postal_code        Years      useful       funny        cool  \\\n",
       "count    634.000000   634.000000  634.000000  634.000000  634.000000   \n",
       "mean   15168.141956  2012.436909    1.068052    0.367989    0.494219   \n",
       "std       78.916710     2.626868    0.644194    0.408243    0.455602   \n",
       "min    15003.000000  2006.000000    0.000000    0.000000    0.000000   \n",
       "25%    15112.000000  2011.000000    0.659720    0.130109    0.235667   \n",
       "50%    15203.000000  2013.000000    0.965546    0.268621    0.398269   \n",
       "75%    15224.000000  2015.000000    1.357578    0.461003    0.636162   \n",
       "max    15367.000000  2016.000000    4.500000    3.000000    4.000000   \n",
       "\n",
       "            Price     stars_1     stars_2     stars_3     stars_4     stars_5  \\\n",
       "count  634.000000  634.000000  634.000000  634.000000  634.000000  634.000000   \n",
       "mean     1.809474    0.107808    0.077899    0.126347    0.279289    0.408657   \n",
       "std      0.245240    0.109397    0.068017    0.101962    0.147775    0.185385   \n",
       "min      1.000000    0.000000    0.000000    0.000000    0.000000    0.000000   \n",
       "25%      1.730889    0.040000    0.022348    0.072646    0.206649    0.307692   \n",
       "50%      1.833333    0.097365    0.076923    0.117963    0.269845    0.386917   \n",
       "75%      1.918697    0.152098    0.107421    0.164725    0.334572    0.488815   \n",
       "max      3.000000    1.000000    0.555556    1.000000    1.000000    1.000000   \n",
       "\n",
       "            stars  reviews_perc  prev_stars  stars_perc  Perc_Change_tminus1  \\\n",
       "count  634.000000    634.000000  634.000000  634.000000           634.000000   \n",
       "mean     3.803087      0.012904    3.853074    0.011470             0.021715   \n",
       "std      0.480138      0.025321    0.545036    0.272047             0.033733   \n",
       "min      1.000000      0.000023    1.000000   -0.800000            -0.070423   \n",
       "25%      3.576049      0.000979    3.582394   -0.062953             0.000000   \n",
       "50%      3.765358      0.004124    3.781929   -0.001392             0.020135   \n",
       "75%      4.000000      0.011989    4.063497    0.036462             0.044826   \n",
       "max      5.000000      0.170306    5.000000    3.500000             0.201389   \n",
       "\n",
       "       Per_Change_t  Perc_Change_tplus1  \n",
       "count    634.000000          634.000000  \n",
       "mean       0.028951            0.033083  \n",
       "std        0.039469            0.037433  \n",
       "min       -0.070423           -0.070423  \n",
       "25%        0.000000            0.008066  \n",
       "50%        0.027180            0.031458  \n",
       "75%        0.053044            0.053637  \n",
       "max        0.219858            0.219858  "
      ]
     },
     "execution_count": 510,
     "metadata": {},
     "output_type": "execute_result"
    }
   ],
   "source": [
    "data2.dropna().describe()"
   ]
  },
  {
   "cell_type": "code",
   "execution_count": 513,
   "metadata": {
    "collapsed": false
   },
   "outputs": [],
   "source": [
    "from sklearn import preprocessing\n",
    "data_scaled = preprocessing.scale(data[data.columns[2:18]].dropna())"
   ]
  },
  {
   "cell_type": "code",
   "execution_count": 518,
   "metadata": {
    "collapsed": false
   },
   "outputs": [
    {
     "data": {
      "text/html": [
       "<div>\n",
       "<table border=\"1\" class=\"dataframe\">\n",
       "  <thead>\n",
       "    <tr style=\"text-align: right;\">\n",
       "      <th></th>\n",
       "      <th>useful</th>\n",
       "      <th>funny</th>\n",
       "      <th>cool</th>\n",
       "      <th>Price</th>\n",
       "      <th>stars_1</th>\n",
       "      <th>stars_2</th>\n",
       "      <th>stars_3</th>\n",
       "      <th>stars_4</th>\n",
       "      <th>stars_5</th>\n",
       "      <th>stars</th>\n",
       "      <th>reviews_perc</th>\n",
       "      <th>prev_stars</th>\n",
       "      <th>stars_perc</th>\n",
       "      <th>Perc_Change_tminus1</th>\n",
       "      <th>Per_Change_t</th>\n",
       "      <th>Perc_Change_tplus1</th>\n",
       "    </tr>\n",
       "  </thead>\n",
       "  <tbody>\n",
       "    <tr>\n",
       "      <th>count</th>\n",
       "      <td>6.340000e+02</td>\n",
       "      <td>6.340000e+02</td>\n",
       "      <td>6.340000e+02</td>\n",
       "      <td>6.340000e+02</td>\n",
       "      <td>6.340000e+02</td>\n",
       "      <td>6.340000e+02</td>\n",
       "      <td>6.340000e+02</td>\n",
       "      <td>6.340000e+02</td>\n",
       "      <td>6.340000e+02</td>\n",
       "      <td>6.340000e+02</td>\n",
       "      <td>6.340000e+02</td>\n",
       "      <td>6.340000e+02</td>\n",
       "      <td>6.340000e+02</td>\n",
       "      <td>6.340000e+02</td>\n",
       "      <td>6.340000e+02</td>\n",
       "      <td>6.340000e+02</td>\n",
       "    </tr>\n",
       "    <tr>\n",
       "      <th>mean</th>\n",
       "      <td>-2.420076e-16</td>\n",
       "      <td>1.975286e-16</td>\n",
       "      <td>-8.195337e-17</td>\n",
       "      <td>-1.805076e-15</td>\n",
       "      <td>1.436811e-16</td>\n",
       "      <td>-9.105930e-18</td>\n",
       "      <td>3.051362e-17</td>\n",
       "      <td>-2.553163e-16</td>\n",
       "      <td>2.486619e-17</td>\n",
       "      <td>4.798125e-16</td>\n",
       "      <td>-1.978789e-17</td>\n",
       "      <td>9.456158e-17</td>\n",
       "      <td>-1.286917e-17</td>\n",
       "      <td>-3.344678e-17</td>\n",
       "      <td>3.817486e-17</td>\n",
       "      <td>-1.100592e-16</td>\n",
       "    </tr>\n",
       "    <tr>\n",
       "      <th>std</th>\n",
       "      <td>1.000790e+00</td>\n",
       "      <td>1.000790e+00</td>\n",
       "      <td>1.000790e+00</td>\n",
       "      <td>1.000790e+00</td>\n",
       "      <td>1.000790e+00</td>\n",
       "      <td>1.000790e+00</td>\n",
       "      <td>1.000790e+00</td>\n",
       "      <td>1.000790e+00</td>\n",
       "      <td>1.000790e+00</td>\n",
       "      <td>1.000790e+00</td>\n",
       "      <td>1.000790e+00</td>\n",
       "      <td>1.000790e+00</td>\n",
       "      <td>1.000790e+00</td>\n",
       "      <td>1.000790e+00</td>\n",
       "      <td>1.000790e+00</td>\n",
       "      <td>1.000790e+00</td>\n",
       "    </tr>\n",
       "    <tr>\n",
       "      <th>min</th>\n",
       "      <td>-1.659276e+00</td>\n",
       "      <td>-9.021087e-01</td>\n",
       "      <td>-1.085616e+00</td>\n",
       "      <td>-3.303344e+00</td>\n",
       "      <td>-9.862550e-01</td>\n",
       "      <td>-1.146191e+00</td>\n",
       "      <td>-1.240137e+00</td>\n",
       "      <td>-1.891452e+00</td>\n",
       "      <td>-2.206102e+00</td>\n",
       "      <td>-5.842701e+00</td>\n",
       "      <td>-5.091441e-01</td>\n",
       "      <td>-5.238789e+00</td>\n",
       "      <td>-2.985186e+00</td>\n",
       "      <td>-2.733548e+00</td>\n",
       "      <td>-2.519712e+00</td>\n",
       "      <td>-2.767267e+00</td>\n",
       "    </tr>\n",
       "    <tr>\n",
       "      <th>25%</th>\n",
       "      <td>-6.343662e-01</td>\n",
       "      <td>-5.831529e-01</td>\n",
       "      <td>-5.679435e-01</td>\n",
       "      <td>-3.206933e-01</td>\n",
       "      <td>-6.203241e-01</td>\n",
       "      <td>-8.173614e-01</td>\n",
       "      <td>-5.270988e-01</td>\n",
       "      <td>-4.919474e-01</td>\n",
       "      <td>-5.450481e-01</td>\n",
       "      <td>-4.732337e-01</td>\n",
       "      <td>-4.713450e-01</td>\n",
       "      <td>-4.970187e-01</td>\n",
       "      <td>-2.737825e-01</td>\n",
       "      <td>-6.442484e-01</td>\n",
       "      <td>-7.340728e-01</td>\n",
       "      <td>-6.688387e-01</td>\n",
       "    </tr>\n",
       "    <tr>\n",
       "      <th>50%</th>\n",
       "      <td>-1.592484e-01</td>\n",
       "      <td>-2.435962e-01</td>\n",
       "      <td>-2.107666e-01</td>\n",
       "      <td>9.736494e-02</td>\n",
       "      <td>-9.553075e-02</td>\n",
       "      <td>-1.436619e-02</td>\n",
       "      <td>-8.229151e-02</td>\n",
       "      <td>-6.395851e-02</td>\n",
       "      <td>-1.173581e-01</td>\n",
       "      <td>-7.864188e-02</td>\n",
       "      <td>-3.470598e-01</td>\n",
       "      <td>-1.306345e-01</td>\n",
       "      <td>-4.731692e-02</td>\n",
       "      <td>-4.687817e-02</td>\n",
       "      <td>-4.489193e-02</td>\n",
       "      <td>-4.345896e-02</td>\n",
       "    </tr>\n",
       "    <tr>\n",
       "      <th>75%</th>\n",
       "      <td>4.497933e-01</td>\n",
       "      <td>2.280202e-01</td>\n",
       "      <td>3.117965e-01</td>\n",
       "      <td>4.457229e-01</td>\n",
       "      <td>4.051765e-01</td>\n",
       "      <td>4.343751e-01</td>\n",
       "      <td>3.766838e-01</td>\n",
       "      <td>3.743995e-01</td>\n",
       "      <td>4.327292e-01</td>\n",
       "      <td>4.104417e-01</td>\n",
       "      <td>-3.616928e-02</td>\n",
       "      <td>3.863781e-01</td>\n",
       "      <td>9.193770e-02</td>\n",
       "      <td>6.856611e-01</td>\n",
       "      <td>6.109193e-01</td>\n",
       "      <td>5.495122e-01</td>\n",
       "    </tr>\n",
       "    <tr>\n",
       "      <th>max</th>\n",
       "      <td>5.331714e+00</td>\n",
       "      <td>6.452261e+00</td>\n",
       "      <td>7.700911e+00</td>\n",
       "      <td>4.858357e+00</td>\n",
       "      <td>8.162018e+00</td>\n",
       "      <td>7.028098e+00</td>\n",
       "      <td>8.575165e+00</td>\n",
       "      <td>4.880934e+00</td>\n",
       "      <td>3.192324e+00</td>\n",
       "      <td>2.494822e+00</td>\n",
       "      <td>6.221228e+00</td>\n",
       "      <td>2.105976e+00</td>\n",
       "      <td>1.283339e+01</td>\n",
       "      <td>5.330567e+00</td>\n",
       "      <td>4.840669e+00</td>\n",
       "      <td>4.993513e+00</td>\n",
       "    </tr>\n",
       "  </tbody>\n",
       "</table>\n",
       "</div>"
      ],
      "text/plain": [
       "             useful         funny          cool         Price       stars_1  \\\n",
       "count  6.340000e+02  6.340000e+02  6.340000e+02  6.340000e+02  6.340000e+02   \n",
       "mean  -2.420076e-16  1.975286e-16 -8.195337e-17 -1.805076e-15  1.436811e-16   \n",
       "std    1.000790e+00  1.000790e+00  1.000790e+00  1.000790e+00  1.000790e+00   \n",
       "min   -1.659276e+00 -9.021087e-01 -1.085616e+00 -3.303344e+00 -9.862550e-01   \n",
       "25%   -6.343662e-01 -5.831529e-01 -5.679435e-01 -3.206933e-01 -6.203241e-01   \n",
       "50%   -1.592484e-01 -2.435962e-01 -2.107666e-01  9.736494e-02 -9.553075e-02   \n",
       "75%    4.497933e-01  2.280202e-01  3.117965e-01  4.457229e-01  4.051765e-01   \n",
       "max    5.331714e+00  6.452261e+00  7.700911e+00  4.858357e+00  8.162018e+00   \n",
       "\n",
       "            stars_2       stars_3       stars_4       stars_5         stars  \\\n",
       "count  6.340000e+02  6.340000e+02  6.340000e+02  6.340000e+02  6.340000e+02   \n",
       "mean  -9.105930e-18  3.051362e-17 -2.553163e-16  2.486619e-17  4.798125e-16   \n",
       "std    1.000790e+00  1.000790e+00  1.000790e+00  1.000790e+00  1.000790e+00   \n",
       "min   -1.146191e+00 -1.240137e+00 -1.891452e+00 -2.206102e+00 -5.842701e+00   \n",
       "25%   -8.173614e-01 -5.270988e-01 -4.919474e-01 -5.450481e-01 -4.732337e-01   \n",
       "50%   -1.436619e-02 -8.229151e-02 -6.395851e-02 -1.173581e-01 -7.864188e-02   \n",
       "75%    4.343751e-01  3.766838e-01  3.743995e-01  4.327292e-01  4.104417e-01   \n",
       "max    7.028098e+00  8.575165e+00  4.880934e+00  3.192324e+00  2.494822e+00   \n",
       "\n",
       "       reviews_perc    prev_stars    stars_perc  Perc_Change_tminus1  \\\n",
       "count  6.340000e+02  6.340000e+02  6.340000e+02         6.340000e+02   \n",
       "mean  -1.978789e-17  9.456158e-17 -1.286917e-17        -3.344678e-17   \n",
       "std    1.000790e+00  1.000790e+00  1.000790e+00         1.000790e+00   \n",
       "min   -5.091441e-01 -5.238789e+00 -2.985186e+00        -2.733548e+00   \n",
       "25%   -4.713450e-01 -4.970187e-01 -2.737825e-01        -6.442484e-01   \n",
       "50%   -3.470598e-01 -1.306345e-01 -4.731692e-02        -4.687817e-02   \n",
       "75%   -3.616928e-02  3.863781e-01  9.193770e-02         6.856611e-01   \n",
       "max    6.221228e+00  2.105976e+00  1.283339e+01         5.330567e+00   \n",
       "\n",
       "       Per_Change_t  Perc_Change_tplus1  \n",
       "count  6.340000e+02        6.340000e+02  \n",
       "mean   3.817486e-17       -1.100592e-16  \n",
       "std    1.000790e+00        1.000790e+00  \n",
       "min   -2.519712e+00       -2.767267e+00  \n",
       "25%   -7.340728e-01       -6.688387e-01  \n",
       "50%   -4.489193e-02       -4.345896e-02  \n",
       "75%    6.109193e-01        5.495122e-01  \n",
       "max    4.840669e+00        4.993513e+00  "
      ]
     },
     "execution_count": 518,
     "metadata": {},
     "output_type": "execute_result"
    }
   ],
   "source": [
    "data_scaled_df = pd.DataFrame(data_scaled, columns = data.columns[2:18])\n",
    "data_scaled_df['grow'] = data['grow']\n",
    "data_scaled_df.describe()"
   ]
  },
  {
   "cell_type": "code",
   "execution_count": 519,
   "metadata": {
    "collapsed": true
   },
   "outputs": [],
   "source": [
    "X = data_scaled_df[data_scaled_df.columns[0:14]]\n",
    "Y = data_scaled_df['grow']\n",
    "\n",
    "# x_train = X[train_index]\n",
    "# y_train = Y[train_index]\n",
    "\n",
    "# x_test = X[test_index]\n",
    "# y_test = Y[test_index]\n",
    "\n",
    "x_train, x_test, y_train, y_test = train_test_split(X,Y, test_size = 0.5)"
   ]
  },
  {
   "cell_type": "code",
   "execution_count": 563,
   "metadata": {
    "collapsed": false
   },
   "outputs": [
    {
     "data": {
      "image/png": "[encoded data removed]",
      "text/plain": [
       "<matplotlib.figure.Figure at 0x11615ad90>"
      ]
     },
     "metadata": {},
     "output_type": "display_data"
    }
   ],
   "source": [
    "sns.boxplot(data=data_scaled_df, x='grow', y='Perc_Change_tplus1')\n",
    "plt.show()"
   ]
  },
  {
   "cell_type": "code",
   "execution_count": 540,
   "metadata": {
    "collapsed": false
   },
   "outputs": [
    {
     "ename": "TypeError",
     "evalue": "cannot concatenate a non-NDFrame object",
     "output_type": "error",
     "traceback": [
      "\u001b[0;31m---------------------------------------------------------------------------\u001b[0m",
      "\u001b[0;31mTypeError\u001b[0m                                 Traceback (most recent call last)",
      "\u001b[0;32m<ipython-input-540-4dc764ec9c0e>\u001b[0m in \u001b[0;36m<module>\u001b[0;34m()\u001b[0m\n\u001b[0;32m----> 1\u001b[0;31m \u001b[0mpd\u001b[0m\u001b[0;34m.\u001b[0m\u001b[0mconcat\u001b[0m\u001b[0;34m(\u001b[0m\u001b[0;34m[\u001b[0m\u001b[0my_pred_lr\u001b[0m\u001b[0;34m,\u001b[0m \u001b[0my_pred_dt\u001b[0m\u001b[0;34m,\u001b[0m \u001b[0my_pred_rf\u001b[0m\u001b[0;34m]\u001b[0m\u001b[0;34m,\u001b[0m \u001b[0maxis\u001b[0m \u001b[0;34m=\u001b[0m \u001b[0;36m1\u001b[0m\u001b[0;34m)\u001b[0m\u001b[0;34m\u001b[0m\u001b[0m\n\u001b[0m",
      "\u001b[0;32m/Users/jamiediner/anaconda/lib/python2.7/site-packages/pandas/tools/merge.pyc\u001b[0m in \u001b[0;36mconcat\u001b[0;34m(objs, axis, join, join_axes, ignore_index, keys, levels, names, verify_integrity, copy)\u001b[0m\n\u001b[1;32m    843\u001b[0m                        \u001b[0mkeys\u001b[0m\u001b[0;34m=\u001b[0m\u001b[0mkeys\u001b[0m\u001b[0;34m,\u001b[0m \u001b[0mlevels\u001b[0m\u001b[0;34m=\u001b[0m\u001b[0mlevels\u001b[0m\u001b[0;34m,\u001b[0m \u001b[0mnames\u001b[0m\u001b[0;34m=\u001b[0m\u001b[0mnames\u001b[0m\u001b[0;34m,\u001b[0m\u001b[0;34m\u001b[0m\u001b[0m\n\u001b[1;32m    844\u001b[0m                        \u001b[0mverify_integrity\u001b[0m\u001b[0;34m=\u001b[0m\u001b[0mverify_integrity\u001b[0m\u001b[0;34m,\u001b[0m\u001b[0;34m\u001b[0m\u001b[0m\n\u001b[0;32m--> 845\u001b[0;31m                        copy=copy)\n\u001b[0m\u001b[1;32m    846\u001b[0m     \u001b[0;32mreturn\u001b[0m \u001b[0mop\u001b[0m\u001b[0;34m.\u001b[0m\u001b[0mget_result\u001b[0m\u001b[0;34m(\u001b[0m\u001b[0;34m)\u001b[0m\u001b[0;34m\u001b[0m\u001b[0m\n\u001b[1;32m    847\u001b[0m \u001b[0;34m\u001b[0m\u001b[0m\n",
      "\u001b[0;32m/Users/jamiediner/anaconda/lib/python2.7/site-packages/pandas/tools/merge.pyc\u001b[0m in \u001b[0;36m__init__\u001b[0;34m(self, objs, axis, join, join_axes, keys, levels, names, ignore_index, verify_integrity, copy)\u001b[0m\n\u001b[1;32m    899\u001b[0m         \u001b[0;32mfor\u001b[0m \u001b[0mobj\u001b[0m \u001b[0;32min\u001b[0m \u001b[0mobjs\u001b[0m\u001b[0;34m:\u001b[0m\u001b[0;34m\u001b[0m\u001b[0m\n\u001b[1;32m    900\u001b[0m             \u001b[0;32mif\u001b[0m \u001b[0;32mnot\u001b[0m \u001b[0misinstance\u001b[0m\u001b[0;34m(\u001b[0m\u001b[0mobj\u001b[0m\u001b[0;34m,\u001b[0m \u001b[0mNDFrame\u001b[0m\u001b[0;34m)\u001b[0m\u001b[0;34m:\u001b[0m\u001b[0;34m\u001b[0m\u001b[0m\n\u001b[0;32m--> 901\u001b[0;31m                 \u001b[0;32mraise\u001b[0m \u001b[0mTypeError\u001b[0m\u001b[0;34m(\u001b[0m\u001b[0;34m\"cannot concatenate a non-NDFrame object\"\u001b[0m\u001b[0;34m)\u001b[0m\u001b[0;34m\u001b[0m\u001b[0m\n\u001b[0m\u001b[1;32m    902\u001b[0m \u001b[0;34m\u001b[0m\u001b[0m\n\u001b[1;32m    903\u001b[0m             \u001b[0;31m# consolidate\u001b[0m\u001b[0;34m\u001b[0m\u001b[0;34m\u001b[0m\u001b[0m\n",
      "\u001b[0;31mTypeError\u001b[0m: cannot concatenate a non-NDFrame object"
     ]
    }
   ],
   "source": [
    "pd.concat([y_pred_lr, y_pred_dt, y_pred_rf], axis = 1)"
   ]
  },
  {
   "cell_type": "code",
   "execution_count": 544,
   "metadata": {
    "collapsed": false
   },
   "outputs": [],
   "source": [
    "from sklearn.ensemble import VotingClassifier"
   ]
  },
  {
   "cell_type": "code",
   "execution_count": 561,
   "metadata": {
    "collapsed": false
   },
   "outputs": [
    {
     "name": "stdout",
     "output_type": "stream",
     "text": [
      "               precision    recall  f1-score   support\n",
      "\n",
      "  HIGH_GROWTH       0.26      0.37      0.31        38\n",
      "     NEGATIVE       0.10      0.10      0.10        31\n",
      "NORMAL_GROWTH       0.78      0.74      0.76       248\n",
      "\n",
      "  avg / total       0.65      0.63      0.64       317\n",
      "\n"
     ]
    },
    {
     "data": {
      "text/plain": [
       "array([[ 14,   0,  24],\n",
       "       [  1,   3,  27],\n",
       "       [ 38,  27, 183]])"
      ]
     },
     "execution_count": 561,
     "metadata": {},
     "output_type": "execute_result"
    }
   ],
   "source": [
    "eclf1 = VotingClassifier(estimators=[('lr', logreg), ('rf', rf), ('dt', decision_tree)], voting='soft',weights=[10,10,1])\n",
    "eclf1 = eclf1.fit(x_train, y_train)\n",
    "y_pred_ensemble = eclf1.predict(x_test)\n",
    "print(classification_report(y_test, y_pred_ensemble))\n",
    "confusion_matrix(y_test, y_pred_ensemble)"
   ]
  },
  {
   "cell_type": "code",
   "execution_count": 560,
   "metadata": {
    "collapsed": false
   },
   "outputs": [
    {
     "data": {
      "text/plain": [
       "array(['HIGH_GROWTH', 'NEGATIVE', 'NORMAL_GROWTH'], dtype=object)"
      ]
     },
     "execution_count": 560,
     "metadata": {},
     "output_type": "execute_result"
    }
   ],
   "source": [
    "eclf1.classes_"
   ]
  },
  {
   "cell_type": "code",
   "execution_count": null,
   "metadata": {
    "collapsed": true
   },
   "outputs": [],
   "source": []
  }
 ],
 "metadata": {
  "kernelspec": {
   "display_name": "Python [default]",
   "language": "python",
   "name": "python2"
  },
  "language_info": {
   "codemirror_mode": {
    "name": "ipython",
    "version": 2
   },
   "file_extension": ".py",
   "mimetype": "text/x-python",
   "name": "python",
   "nbconvert_exporter": "python",
   "pygments_lexer": "ipython2",
   "version": "2.7.12"
  }
 },
 "nbformat": 4,
 "nbformat_minor": 1
}
